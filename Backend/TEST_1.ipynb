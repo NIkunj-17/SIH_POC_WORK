{
 "cells": [
  {
   "cell_type": "code",
   "execution_count": 1,
   "metadata": {},
   "outputs": [
    {
     "name": "stdout",
     "output_type": "stream",
     "text": [
      "xxx is xxx and lives in New York. His email is xxx.\n"
     ]
    }
   ],
   "source": [
    "import spacy\n",
    "import re\n",
    "\n",
    "# Load the small English model\n",
    "nlp = spacy.load(\"en_core_web_sm\")\n",
    "\n",
    "# Define redaction levels and sensitive entity types\n",
    "ENTITY_LEVELS = {\n",
    "    1: [\"PERSON\", \"EMAIL\"],\n",
    "    2: [\"PERSON\", \"EMAIL\", \"DATE\", \"AGE\", \"ORG\"],\n",
    "    3: [\"PERSON\", \"EMAIL\", \"DATE\", \"AGE\", \"ORG\", \"CARDINAL\", \"GPE\"]\n",
    "}\n",
    "\n",
    "def redact_text(text, level):\n",
    "    # Process the text with spaCy NLP pipeline\n",
    "    doc = nlp(text)\n",
    "    \n",
    "    # List of redacted words\n",
    "    redacted_text = text\n",
    "\n",
    "    # Redact based on entities\n",
    "    for ent in doc.ents:\n",
    "        if ent.label_ in ENTITY_LEVELS[level]:\n",
    "            redacted_text = re.sub(ent.text, \"xxx\", redacted_text)\n",
    "\n",
    "    return redacted_text\n",
    "\n",
    "# Sample usage\n",
    "text = \"John Doe is 25 years old and lives in New York. His email is john.doe@example.com.\"\n",
    "redaction_level = 2\n",
    "output = redact_text(text, redaction_level)\n",
    "print(output)  # Output should redact name, email, etc. based on the level\n"
   ]
  },
  {
   "cell_type": "code",
   "execution_count": 4,
   "metadata": {},
   "outputs": [
    {
     "name": "stdout",
     "output_type": "stream",
     "text": [
      "Original Text:\n",
      "John Doe's Aadhaar number is 1234 5678 9012 and PAN number is ABCDE1234F. He was born on 01/01/1990.\n",
      "\n",
      "Redacted Text:\n",
      "xxx Aadhaar number is xxx-xxx-xxxx and xxx number is XXXXX1234X. He was born on xxx.\n"
     ]
    }
   ],
   "source": [
    "edacted_text = re.sub(PAN_PATTERN, lambda x: f\"XXXXX{x.group()[5:9]}X\", redacted_text)\n"
   ]
  },
  {
   "cell_type": "code",
   "execution_count": 7,
   "metadata": {},
   "outputs": [
    {
     "name": "stdout",
     "output_type": "stream",
     "text": [
      "xxx Aadhaar number is xxx and xxx number is XXXXX1234X.\n"
     ]
    }
   ],
   "source": [
    "import re\n",
    "import spacy\n",
    "\n",
    "# Load the spaCy model\n",
    "nlp = spacy.load(\"en_core_web_sm\")\n",
    "\n",
    "# Define patterns for Indian-specific entities\n",
    "AADHAAR_PATTERN = r'\\b\\d{4}\\s\\d{4}\\s\\d{4}\\b'\n",
    "PAN_PATTERN = r'\\b[A-Z]{5}\\d{4}[A-Z]\\b'\n",
    "\n",
    "# Entity levels for redaction\n",
    "ENTITY_LEVELS = {\n",
    "    1: ['PERSON', 'ORG', 'DATE'],  # Example level 1 redaction\n",
    "    2: ['PERSON', 'ORG', 'DATE', 'AADHAAR_NUMBER', 'PAN_NUMBER'],  # Example level 2\n",
    "}\n",
    "\n",
    "def redact_indian_entities(text, level):\n",
    "    # Process text with spaCy\n",
    "    doc = nlp(text)\n",
    "\n",
    "    # Redact standard entities\n",
    "    redacted_text = text\n",
    "    for ent in doc.ents:\n",
    "        if ent.label_ in ENTITY_LEVELS[level]:\n",
    "            # Use word boundaries to avoid affecting surrounding text\n",
    "            redacted_text = re.sub(rf'\\b{re.escape(ent.text)}\\b', \"xxx\", redacted_text)\n",
    "\n",
    "    # Redact Aadhaar and PAN numbers for level 2 and above\n",
    "    if level >= 2:\n",
    "        # Replace Aadhaar numbers with the pattern \"xxx-xxx-xxx\"\n",
    "        redacted_text = re.sub(AADHAAR_PATTERN, \"xxx-xxx-xxx\", redacted_text)\n",
    "\n",
    "        # Replace only the PAN number itself, keeping \"PAN number\" intact\n",
    "        redacted_text = re.sub(PAN_PATTERN, lambda x: f\"XXXXX{x.group()[5:9]}X\", redacted_text)\n",
    "\n",
    "    return redacted_text\n",
    "\n",
    "# Sample usage\n",
    "text = \"John Doe's Aadhaar number is 1234 5678 9012 and PAN number is ABCDE1234F.\"\n",
    "redaction_level = 2\n",
    "output = redact_indian_entities(text, redaction_level)\n",
    "print(output)\n"
   ]
  },
  {
   "cell_type": "code",
   "execution_count": 8,
   "metadata": {},
   "outputs": [
    {
     "name": "stdout",
     "output_type": "stream",
     "text": [
      "xxx Aadhaar number is xxx and xxx number is XXXXX1234X.\n"
     ]
    }
   ],
   "source": [
    "import re\n",
    "import spacy\n",
    "\n",
    "# Load the spaCy model\n",
    "nlp = spacy.load(\"en_core_web_sm\")\n",
    "\n",
    "# Define patterns for Indian-specific entities\n",
    "AADHAAR_PATTERN = r'\\b\\d{4}\\s\\d{4}\\s\\d{4}\\b'\n",
    "PAN_PATTERN = r'\\b[A-Z]{5}\\d{4}[A-Z]\\b'\n",
    "\n",
    "# Entity levels for redaction\n",
    "ENTITY_LEVELS = {\n",
    "    1: ['PERSON', 'ORG', 'DATE'],  # Example level 1 redaction\n",
    "    2: ['PERSON', 'ORG', 'DATE', 'AADHAAR_NUMBER', 'PAN_NUMBER'],  # Example level 2\n",
    "}\n",
    "\n",
    "def redact_indian_entities(text, level):\n",
    "    # Process text with spaCy\n",
    "    doc = nlp(text)\n",
    "\n",
    "    # Redact standard entities\n",
    "    redacted_text = text\n",
    "    for ent in doc.ents:\n",
    "        if ent.label_ in ENTITY_LEVELS[level]:\n",
    "            # Use word boundaries to avoid affecting surrounding text\n",
    "            redacted_text = re.sub(rf'\\b{re.escape(ent.text)}\\b', \"xxx\", redacted_text)\n",
    "\n",
    "    # Redact Aadhaar and PAN numbers for level 2 and above\n",
    "    if level >= 2:\n",
    "        # Replace Aadhaar numbers with the pattern \"xxx-xxx-xxx\"\n",
    "        redacted_text = re.sub(AADHAAR_PATTERN, \"xxx-xxx-xxx\", redacted_text)\n",
    "\n",
    "        # Replace only the PAN number itself, keeping \"PAN number\" intact\n",
    "        redacted_text = re.sub(PAN_PATTERN, lambda x: f\"XXXXX{x.group()[5:9]}X\", redacted_text)\n",
    "\n",
    "    return redacted_text\n",
    "\n",
    "# Sample usage\n",
    "text = \"John Doe's Aadhaar number is 1234 5678 9012 and PAN number is ABCDE1234F.\"\n",
    "redaction_level = 2\n",
    "output = redact_indian_entities(text, redaction_level)\n",
    "print(output)\n"
   ]
  },
  {
   "cell_type": "code",
   "execution_count": 9,
   "metadata": {},
   "outputs": [
    {
     "name": "stdout",
     "output_type": "stream",
     "text": [
      "[REDACTED NAME] Aadhaar number is [REDACTED DATE] and [REDACTED ORG] number is XXXXX1234X.\n"
     ]
    }
   ],
   "source": [
    "import re\n",
    "import spacy\n",
    "\n",
    "# Load the spaCy model\n",
    "nlp = spacy.load(\"en_core_web_sm\")\n",
    "\n",
    "# Define patterns for Indian-specific entities\n",
    "AADHAAR_PATTERN = r'\\b\\d{4}\\s\\d{4}\\s\\d{4}\\b'\n",
    "PAN_PATTERN = r'\\b[A-Z]{5}\\d{4}[A-Z]\\b'\n",
    "\n",
    "# Entity levels for redaction\n",
    "ENTITY_LEVELS = {\n",
    "    1: ['PERSON', 'ORG'],  # Level 1: Redact only names and organizations\n",
    "    2: ['PERSON', 'ORG', 'GPE', 'DATE'],  # Level 2: Redact names, organizations, locations, dates\n",
    "    3: ['PERSON', 'ORG', 'GPE', 'DATE', 'AADHAAR_NUMBER', 'PAN_NUMBER'],  # Level 3: Redact everything including Aadhaar and PAN\n",
    "}\n",
    "\n",
    "def redact_indian_entities(text, level):\n",
    "    # Process text with spaCy\n",
    "    doc = nlp(text)\n",
    "\n",
    "    # Redact entities based on level\n",
    "    redacted_text = text\n",
    "    for ent in doc.ents:\n",
    "        if ent.label_ in ENTITY_LEVELS[level]:\n",
    "            if ent.label_ == 'PERSON':\n",
    "                redacted_text = re.sub(re.escape(ent.text), '[REDACTED NAME]', redacted_text)\n",
    "            elif ent.label_ == 'ORG':\n",
    "                redacted_text = re.sub(re.escape(ent.text), '[REDACTED ORG]', redacted_text)\n",
    "            elif ent.label_ == 'GPE':\n",
    "                redacted_text = re.sub(re.escape(ent.text), '[REDACTED LOCATION]', redacted_text)\n",
    "            elif ent.label_ == 'DATE':\n",
    "                redacted_text = re.sub(re.escape(ent.text), '[REDACTED DATE]', redacted_text)\n",
    "    \n",
    "    # Redact Aadhaar and PAN numbers for level 3\n",
    "    if level >= 3:\n",
    "        # Aadhaar numbers\n",
    "        redacted_text = re.sub(AADHAAR_PATTERN, 'xxx-xxx-xxx', redacted_text)\n",
    "        # PAN numbers (keep only part of the PAN number visible)\n",
    "        redacted_text = re.sub(PAN_PATTERN, lambda x: f\"XXXXX{x.group()[5:9]}X\", redacted_text)\n",
    "\n",
    "    return redacted_text\n",
    "\n",
    "# Sample usage\n",
    "text = \"John Doe's Aadhaar number is 1234 5678 9012 and PAN number is ABCDE1234F.\"\n",
    "redaction_level = 3\n",
    "output = redact_indian_entities(text, redaction_level)\n",
    "print(output)\n"
   ]
  },
  {
   "cell_type": "code",
   "execution_count": null,
   "metadata": {},
   "outputs": [],
   "source": []
  }
 ],
 "metadata": {
  "kernelspec": {
   "display_name": "Python 3",
   "language": "python",
   "name": "python3"
  },
  "language_info": {
   "codemirror_mode": {
    "name": "ipython",
    "version": 3
   },
   "file_extension": ".py",
   "mimetype": "text/x-python",
   "name": "python",
   "nbconvert_exporter": "python",
   "pygments_lexer": "ipython3",
   "version": "3.12.0"
  }
 },
 "nbformat": 4,
 "nbformat_minor": 2
}
